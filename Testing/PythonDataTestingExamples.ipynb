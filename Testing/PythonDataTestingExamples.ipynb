{
 "cells": [
  {
   "cell_type": "markdown",
   "metadata": {},
   "source": [
    "# Python Data Testing Examples\n",
    "\n",
    "This Jupyter Notebook is a tutorial for how to do Data Testing, or Data\n",
    "Validation, in Python with examples using the `pandera`\n",
    "[package](https://pandera.readthedocs.io/en/stable/index.html#).\n",
    "\n",
    "The general idea of this package is to define the schema and expected constraints\n",
    "and then check that the data set adheres to this schema and satisfies these constraints.\n",
    "\n",
    "**PLEASE be vigilant when committing Jupyter Notebooks to GitLab.\n",
    "Unlike R Markdown Notebooks, Jupyter Notebooks as saved as JSON files and\n",
    "any dataframes you load into a Jupyter Notebook will be included in this JSON file.\n",
    "Consequently, you should NEVER import patient information into a Jupyter Notebook\n",
    "that you plan to commit since we cannot allow for PHI/PII to be saved in GitLab.\n",
    "Any data from our data warehouse that you import into a Jupyter Notebook that will\n",
    "be committed to GitLab should contain entirely deidentified information or\n",
    "aggregated data ONLY. If you are using an Acuitas template to start your repo,\n",
    "then .ipynb files will be included in your .gitignore file by default.**\n",
    "\n",
    "To see an example of how a dataframe is stored in the Jupyter Notebook JSON file,\n",
    "open the `PythonDataTestingExamples.ipynb` file in Notepad and search for \"`valid_df`\",\n",
    "which is a data set we define below and then preview."
   ]
  },
  {
   "cell_type": "code",
   "execution_count": 6,
   "metadata": {},
   "outputs": [],
   "source": [
    "import numpy as np\n",
    "import pandas as pd\n",
    "import pandera as pa\n",
    "from pandera.typing import DataFrame, Series"
   ]
  },
  {
   "cell_type": "markdown",
   "metadata": {},
   "source": [
    "## Schema Models\n",
    "\n",
    "First, we wil begin by defining a schema model for two different dataframes:\n",
    "- One dataframe will be an input to a function\n",
    "- Another dataframe will be an output of that same function\n",
    "\n",
    "The schems are defined used `class` definitions.\n",
    "Notice that `InputSchema` is passed as a parameter to the `OutputSchema`.\n",
    "This means that `OutputSchema` will inherit all of the properties of\n",
    "`InputSchema`.\n",
    "We can see this from the print statement of each of these schema defintions."
   ]
  },
  {
   "cell_type": "code",
   "execution_count": 7,
   "metadata": {},
   "outputs": [
    {
     "name": "stdout",
     "output_type": "stream",
     "text": [
      "<Schema DataFrameSchema(\n",
      "    columns={\n",
      "        'year': <Schema Column(name=year, type=DataType(int64))>\n",
      "        'month': <Schema Column(name=month, type=DataType(int64))>\n",
      "        'day': <Schema Column(name=day, type=DataType(int64))>\n",
      "    },\n",
      "    checks=[],\n",
      "    coerce=False,\n",
      "    dtype=None,\n",
      "    index=None,\n",
      "    strict=False\n",
      "    name=InputSchema,\n",
      "    ordered=False,\n",
      "    unique_column_names=False\n",
      ")>\n",
      "<Schema DataFrameSchema(\n",
      "    columns={\n",
      "        'year': <Schema Column(name=year, type=DataType(int64))>\n",
      "        'month': <Schema Column(name=month, type=DataType(int64))>\n",
      "        'day': <Schema Column(name=day, type=DataType(int64))>\n",
      "        'revenue': <Schema Column(name=revenue, type=DataType(float64))>\n",
      "    },\n",
      "    checks=[],\n",
      "    coerce=False,\n",
      "    dtype=None,\n",
      "    index=None,\n",
      "    strict=False\n",
      "    name=OutputSchema,\n",
      "    ordered=False,\n",
      "    unique_column_names=False\n",
      ")>\n"
     ]
    }
   ],
   "source": [
    "class InputSchema(pa.SchemaModel):\n",
    "    year: Series[int] = pa.Field(gt=2000, coerce=True)\n",
    "    month: Series[int] = pa.Field(ge=1, le=12, coerce=True)\n",
    "    day: Series[int] = pa.Field(ge=0, le=365, coerce=True)\n",
    "\n",
    "class OutputSchema(InputSchema):\n",
    "    revenue: Series[float]\n",
    "\n",
    "print(InputSchema.to_schema())\n",
    "print(OutputSchema.to_schema())"
   ]
  },
  {
   "cell_type": "markdown",
   "metadata": {},
   "source": [
    "Next, we will define our function that expects a dataframe with `InputSchema`\n",
    "and returns a dataframe with `OutputSchema`."
   ]
  },
  {
   "cell_type": "code",
   "execution_count": 8,
   "metadata": {},
   "outputs": [],
   "source": [
    "@pa.check_types\n",
    "def transform(df: DataFrame[InputSchema]) -> DataFrame[OutputSchema]:\n",
    "    return df.assign(revenue=100.0)"
   ]
  },
  {
   "cell_type": "markdown",
   "metadata": {},
   "source": [
    "### Valid Example\n",
    "\n",
    "The `valid_df` DataFrame contains three columns of integers where the `Year`, `Month`, and `Day`\n",
    "integer values are in the expected ranges."
   ]
  },
  {
   "cell_type": "code",
   "execution_count": 9,
   "metadata": {},
   "outputs": [
    {
     "data": {
      "text/html": [
       "<div>\n",
       "<style scoped>\n",
       "    .dataframe tbody tr th:only-of-type {\n",
       "        vertical-align: middle;\n",
       "    }\n",
       "\n",
       "    .dataframe tbody tr th {\n",
       "        vertical-align: top;\n",
       "    }\n",
       "\n",
       "    .dataframe thead th {\n",
       "        text-align: right;\n",
       "    }\n",
       "</style>\n",
       "<table border=\"1\" class=\"dataframe\">\n",
       "  <thead>\n",
       "    <tr style=\"text-align: right;\">\n",
       "      <th></th>\n",
       "      <th>year</th>\n",
       "      <th>month</th>\n",
       "      <th>day</th>\n",
       "    </tr>\n",
       "  </thead>\n",
       "  <tbody>\n",
       "    <tr>\n",
       "      <th>0</th>\n",
       "      <td>2001</td>\n",
       "      <td>3</td>\n",
       "      <td>200</td>\n",
       "    </tr>\n",
       "    <tr>\n",
       "      <th>1</th>\n",
       "      <td>2002</td>\n",
       "      <td>6</td>\n",
       "      <td>156</td>\n",
       "    </tr>\n",
       "    <tr>\n",
       "      <th>2</th>\n",
       "      <td>2003</td>\n",
       "      <td>12</td>\n",
       "      <td>365</td>\n",
       "    </tr>\n",
       "  </tbody>\n",
       "</table>\n",
       "</div>"
      ],
      "text/plain": [
       "   year month  day\n",
       "0  2001     3  200\n",
       "1  2002     6  156\n",
       "2  2003    12  365"
      ]
     },
     "execution_count": 9,
     "metadata": {},
     "output_type": "execute_result"
    }
   ],
   "source": [
    "valid_df = pd.DataFrame({\n",
    "    \"year\": [\"2001\", \"2002\", \"2003\"],\n",
    "    \"month\": [\"3\", \"6\", \"12\"],\n",
    "    \"day\": [\"200\", \"156\", \"365\"],\n",
    "})\n",
    "valid_df"
   ]
  },
  {
   "cell_type": "markdown",
   "metadata": {},
   "source": [
    "Applying the `transform` function to the `valid_df` DataFrame successfully returns a DataFrame with the following results:"
   ]
  },
  {
   "cell_type": "code",
   "execution_count": 10,
   "metadata": {},
   "outputs": [
    {
     "data": {
      "text/html": [
       "<div>\n",
       "<style scoped>\n",
       "    .dataframe tbody tr th:only-of-type {\n",
       "        vertical-align: middle;\n",
       "    }\n",
       "\n",
       "    .dataframe tbody tr th {\n",
       "        vertical-align: top;\n",
       "    }\n",
       "\n",
       "    .dataframe thead th {\n",
       "        text-align: right;\n",
       "    }\n",
       "</style>\n",
       "<table border=\"1\" class=\"dataframe\">\n",
       "  <thead>\n",
       "    <tr style=\"text-align: right;\">\n",
       "      <th></th>\n",
       "      <th>year</th>\n",
       "      <th>month</th>\n",
       "      <th>day</th>\n",
       "      <th>revenue</th>\n",
       "    </tr>\n",
       "  </thead>\n",
       "  <tbody>\n",
       "    <tr>\n",
       "      <th>0</th>\n",
       "      <td>2001</td>\n",
       "      <td>3</td>\n",
       "      <td>200</td>\n",
       "      <td>100.0</td>\n",
       "    </tr>\n",
       "    <tr>\n",
       "      <th>1</th>\n",
       "      <td>2002</td>\n",
       "      <td>6</td>\n",
       "      <td>156</td>\n",
       "      <td>100.0</td>\n",
       "    </tr>\n",
       "    <tr>\n",
       "      <th>2</th>\n",
       "      <td>2003</td>\n",
       "      <td>12</td>\n",
       "      <td>365</td>\n",
       "      <td>100.0</td>\n",
       "    </tr>\n",
       "  </tbody>\n",
       "</table>\n",
       "</div>"
      ],
      "text/plain": [
       "   year  month  day  revenue\n",
       "0  2001      3  200    100.0\n",
       "1  2002      6  156    100.0\n",
       "2  2003     12  365    100.0"
      ]
     },
     "execution_count": 10,
     "metadata": {},
     "output_type": "execute_result"
    }
   ],
   "source": [
    "transform(valid_df)"
   ]
  },
  {
   "cell_type": "markdown",
   "metadata": {},
   "source": [
    "To validate the `valid_df` DataFrame outside of a function definition, we can use the `validate` function."
   ]
  },
  {
   "cell_type": "code",
   "execution_count": 11,
   "metadata": {},
   "outputs": [
    {
     "name": "stdout",
     "output_type": "stream",
     "text": [
      "   year  month  day\n",
      "0  2001      3  200\n",
      "1  2002      6  156\n",
      "2  2003     12  365\n"
     ]
    }
   ],
   "source": [
    "print(InputSchema.validate(valid_df))"
   ]
  },
  {
   "cell_type": "markdown",
   "metadata": {},
   "source": [
    "### Invalid Example\n",
    "\n",
    "The `invalid_df` DataFrame contains three columns of integers where the `Month` and `Day`\n",
    "integer values are in the expected ranges, but the `Year` contains a value of \"1999\" where\n",
    "we expect these values to be greater than 2000."
   ]
  },
  {
   "cell_type": "code",
   "execution_count": 12,
   "metadata": {},
   "outputs": [
    {
     "data": {
      "text/html": [
       "<div>\n",
       "<style scoped>\n",
       "    .dataframe tbody tr th:only-of-type {\n",
       "        vertical-align: middle;\n",
       "    }\n",
       "\n",
       "    .dataframe tbody tr th {\n",
       "        vertical-align: top;\n",
       "    }\n",
       "\n",
       "    .dataframe thead th {\n",
       "        text-align: right;\n",
       "    }\n",
       "</style>\n",
       "<table border=\"1\" class=\"dataframe\">\n",
       "  <thead>\n",
       "    <tr style=\"text-align: right;\">\n",
       "      <th></th>\n",
       "      <th>year</th>\n",
       "      <th>month</th>\n",
       "      <th>day</th>\n",
       "    </tr>\n",
       "  </thead>\n",
       "  <tbody>\n",
       "    <tr>\n",
       "      <th>0</th>\n",
       "      <td>2001</td>\n",
       "      <td>3</td>\n",
       "      <td>200</td>\n",
       "    </tr>\n",
       "    <tr>\n",
       "      <th>1</th>\n",
       "      <td>2002</td>\n",
       "      <td>6</td>\n",
       "      <td>156</td>\n",
       "    </tr>\n",
       "    <tr>\n",
       "      <th>2</th>\n",
       "      <td>1999</td>\n",
       "      <td>12</td>\n",
       "      <td>365</td>\n",
       "    </tr>\n",
       "  </tbody>\n",
       "</table>\n",
       "</div>"
      ],
      "text/plain": [
       "   year month  day\n",
       "0  2001     3  200\n",
       "1  2002     6  156\n",
       "2  1999    12  365"
      ]
     },
     "execution_count": 12,
     "metadata": {},
     "output_type": "execute_result"
    }
   ],
   "source": [
    "invalid_df = pd.DataFrame({\n",
    "    \"year\": [\"2001\", \"2002\", \"1999\"],\n",
    "    \"month\": [\"3\", \"6\", \"12\"],\n",
    "    \"day\": [\"200\", \"156\", \"365\"],\n",
    "})\n",
    "invalid_df"
   ]
  },
  {
   "cell_type": "markdown",
   "metadata": {},
   "source": [
    "Applying the `transform` function to the `invalid_df` DataFrame returns the following `SchemaError`\n",
    "with a summary of the records that did not pass the validation tests:"
   ]
  },
  {
   "cell_type": "code",
   "execution_count": 13,
   "metadata": {},
   "outputs": [
    {
     "ename": "SchemaError",
     "evalue": "error in check_types decorator of function 'transform': <Schema Column(name=year, type=DataType(int64))> failed element-wise validator 0:\n<Check greater_than: greater_than(2000)>\nfailure cases:\n   index  failure_case\n0      2          1999",
     "output_type": "error",
     "traceback": [
      "\u001b[1;31m---------------------------------------------------------------------------\u001b[0m",
      "\u001b[1;31mSchemaError\u001b[0m                               Traceback (most recent call last)",
      "File \u001b[1;32m~\\AppData\\Local\\Packages\\PythonSoftwareFoundation.Python.3.10_qbz5n2kfra8p0\\LocalCache\\local-packages\\Python310\\site-packages\\pandera\\decorators.py:572\u001b[0m, in \u001b[0;36mcheck_types.<locals>._check_arg\u001b[1;34m(arg_name, arg_value)\u001b[0m\n\u001b[0;32m    571\u001b[0m \u001b[39mtry\u001b[39;00m:\n\u001b[1;32m--> 572\u001b[0m     arg_value \u001b[39m=\u001b[39m schema\u001b[39m.\u001b[39;49mvalidate(\n\u001b[0;32m    573\u001b[0m         arg_value,\n\u001b[0;32m    574\u001b[0m         head,\n\u001b[0;32m    575\u001b[0m         tail,\n\u001b[0;32m    576\u001b[0m         sample,\n\u001b[0;32m    577\u001b[0m         random_state,\n\u001b[0;32m    578\u001b[0m         lazy,\n\u001b[0;32m    579\u001b[0m         inplace,\n\u001b[0;32m    580\u001b[0m     )\n\u001b[0;32m    581\u001b[0m \u001b[39mexcept\u001b[39;00m errors\u001b[39m.\u001b[39mSchemaError \u001b[39mas\u001b[39;00m e:\n",
      "File \u001b[1;32m~\\AppData\\Local\\Packages\\PythonSoftwareFoundation.Python.3.10_qbz5n2kfra8p0\\LocalCache\\local-packages\\Python310\\site-packages\\pandera\\schemas.py:518\u001b[0m, in \u001b[0;36mDataFrameSchema.validate\u001b[1;34m(self, check_obj, head, tail, sample, random_state, lazy, inplace)\u001b[0m\n\u001b[0;32m    516\u001b[0m     \u001b[39mreturn\u001b[39;00m check_obj\u001b[39m.\u001b[39mpandera\u001b[39m.\u001b[39madd_schema(\u001b[39mself\u001b[39m)\n\u001b[1;32m--> 518\u001b[0m \u001b[39mreturn\u001b[39;00m \u001b[39mself\u001b[39;49m\u001b[39m.\u001b[39;49m_validate(\n\u001b[0;32m    519\u001b[0m     check_obj\u001b[39m=\u001b[39;49mcheck_obj,\n\u001b[0;32m    520\u001b[0m     head\u001b[39m=\u001b[39;49mhead,\n\u001b[0;32m    521\u001b[0m     tail\u001b[39m=\u001b[39;49mtail,\n\u001b[0;32m    522\u001b[0m     sample\u001b[39m=\u001b[39;49msample,\n\u001b[0;32m    523\u001b[0m     random_state\u001b[39m=\u001b[39;49mrandom_state,\n\u001b[0;32m    524\u001b[0m     lazy\u001b[39m=\u001b[39;49mlazy,\n\u001b[0;32m    525\u001b[0m     inplace\u001b[39m=\u001b[39;49minplace,\n\u001b[0;32m    526\u001b[0m )\n",
      "File \u001b[1;32m~\\AppData\\Local\\Packages\\PythonSoftwareFoundation.Python.3.10_qbz5n2kfra8p0\\LocalCache\\local-packages\\Python310\\site-packages\\pandera\\schemas.py:716\u001b[0m, in \u001b[0;36mDataFrameSchema._validate\u001b[1;34m(self, check_obj, head, tail, sample, random_state, lazy, inplace)\u001b[0m\n\u001b[0;32m    715\u001b[0m \u001b[39mexcept\u001b[39;00m errors\u001b[39m.\u001b[39mSchemaError \u001b[39mas\u001b[39;00m err:\n\u001b[1;32m--> 716\u001b[0m     error_handler\u001b[39m.\u001b[39;49mcollect_error(\u001b[39m\"\u001b[39;49m\u001b[39mschema_component_check\u001b[39;49m\u001b[39m\"\u001b[39;49m, err)\n\u001b[0;32m    717\u001b[0m \u001b[39mexcept\u001b[39;00m errors\u001b[39m.\u001b[39mSchemaErrors \u001b[39mas\u001b[39;00m err:\n",
      "File \u001b[1;32m~\\AppData\\Local\\Packages\\PythonSoftwareFoundation.Python.3.10_qbz5n2kfra8p0\\LocalCache\\local-packages\\Python310\\site-packages\\pandera\\error_handlers.py:32\u001b[0m, in \u001b[0;36mSchemaErrorHandler.collect_error\u001b[1;34m(self, reason_code, schema_error, original_exc)\u001b[0m\n\u001b[0;32m     31\u001b[0m \u001b[39mif\u001b[39;00m \u001b[39mnot\u001b[39;00m \u001b[39mself\u001b[39m\u001b[39m.\u001b[39m_lazy:\n\u001b[1;32m---> 32\u001b[0m     \u001b[39mraise\u001b[39;00m schema_error \u001b[39mfrom\u001b[39;00m \u001b[39moriginal_exc\u001b[39;00m\n\u001b[0;32m     34\u001b[0m \u001b[39m# delete data of validated object from SchemaError object to prevent\u001b[39;00m\n\u001b[0;32m     35\u001b[0m \u001b[39m# storing copies of the validated DataFrame/Series for every\u001b[39;00m\n\u001b[0;32m     36\u001b[0m \u001b[39m# SchemaError collected.\u001b[39;00m\n",
      "File \u001b[1;32m~\\AppData\\Local\\Packages\\PythonSoftwareFoundation.Python.3.10_qbz5n2kfra8p0\\LocalCache\\local-packages\\Python310\\site-packages\\pandera\\schemas.py:708\u001b[0m, in \u001b[0;36mDataFrameSchema._validate\u001b[1;34m(self, check_obj, head, tail, sample, random_state, lazy, inplace)\u001b[0m\n\u001b[0;32m    707\u001b[0m \u001b[39mtry\u001b[39;00m:\n\u001b[1;32m--> 708\u001b[0m     result \u001b[39m=\u001b[39m schema_component(\n\u001b[0;32m    709\u001b[0m         df_to_validate,\n\u001b[0;32m    710\u001b[0m         lazy\u001b[39m=\u001b[39;49mlazy,\n\u001b[0;32m    711\u001b[0m         \u001b[39m# don't make a copy of the data\u001b[39;49;00m\n\u001b[0;32m    712\u001b[0m         inplace\u001b[39m=\u001b[39;49m\u001b[39mTrue\u001b[39;49;00m,\n\u001b[0;32m    713\u001b[0m     )\n\u001b[0;32m    714\u001b[0m     check_results\u001b[39m.\u001b[39mappend(check_utils\u001b[39m.\u001b[39mis_table(result))\n",
      "File \u001b[1;32m~\\AppData\\Local\\Packages\\PythonSoftwareFoundation.Python.3.10_qbz5n2kfra8p0\\LocalCache\\local-packages\\Python310\\site-packages\\pandera\\schemas.py:2074\u001b[0m, in \u001b[0;36mSeriesSchemaBase.__call__\u001b[1;34m(self, check_obj, head, tail, sample, random_state, lazy, inplace)\u001b[0m\n\u001b[0;32m   2073\u001b[0m \u001b[39m\"\"\"Alias for ``validate`` method.\"\"\"\u001b[39;00m\n\u001b[1;32m-> 2074\u001b[0m \u001b[39mreturn\u001b[39;00m \u001b[39mself\u001b[39;49m\u001b[39m.\u001b[39;49mvalidate(\n\u001b[0;32m   2075\u001b[0m     check_obj, head, tail, sample, random_state, lazy, inplace\n\u001b[0;32m   2076\u001b[0m )\n",
      "File \u001b[1;32m~\\AppData\\Local\\Packages\\PythonSoftwareFoundation.Python.3.10_qbz5n2kfra8p0\\LocalCache\\local-packages\\Python310\\site-packages\\pandera\\schema_components.py:215\u001b[0m, in \u001b[0;36mColumn.validate\u001b[1;34m(self, check_obj, head, tail, sample, random_state, lazy, inplace)\u001b[0m\n\u001b[0;32m    214\u001b[0m     \u001b[39melse\u001b[39;00m:\n\u001b[1;32m--> 215\u001b[0m         validate_column(check_obj, column_name)\n\u001b[0;32m    217\u001b[0m \u001b[39mreturn\u001b[39;00m check_obj\n",
      "File \u001b[1;32m~\\AppData\\Local\\Packages\\PythonSoftwareFoundation.Python.3.10_qbz5n2kfra8p0\\LocalCache\\local-packages\\Python310\\site-packages\\pandera\\schema_components.py:188\u001b[0m, in \u001b[0;36mColumn.validate.<locals>.validate_column\u001b[1;34m(check_obj, column_name)\u001b[0m\n\u001b[0;32m    187\u001b[0m \u001b[39mdef\u001b[39;00m \u001b[39mvalidate_column\u001b[39m(check_obj, column_name):\n\u001b[1;32m--> 188\u001b[0m     \u001b[39msuper\u001b[39;49m(Column, copy(\u001b[39mself\u001b[39;49m)\u001b[39m.\u001b[39;49mset_name(column_name))\u001b[39m.\u001b[39;49mvalidate(\n\u001b[0;32m    189\u001b[0m         check_obj,\n\u001b[0;32m    190\u001b[0m         head,\n\u001b[0;32m    191\u001b[0m         tail,\n\u001b[0;32m    192\u001b[0m         sample,\n\u001b[0;32m    193\u001b[0m         random_state,\n\u001b[0;32m    194\u001b[0m         lazy,\n\u001b[0;32m    195\u001b[0m         inplace\u001b[39m=\u001b[39;49minplace,\n\u001b[0;32m    196\u001b[0m     )\n",
      "File \u001b[1;32m~\\AppData\\Local\\Packages\\PythonSoftwareFoundation.Python.3.10_qbz5n2kfra8p0\\LocalCache\\local-packages\\Python310\\site-packages\\pandera\\schemas.py:2032\u001b[0m, in \u001b[0;36mSeriesSchemaBase.validate\u001b[1;34m(self, check_obj, head, tail, sample, random_state, lazy, inplace)\u001b[0m\n\u001b[0;32m   2031\u001b[0m \u001b[39mexcept\u001b[39;00m errors\u001b[39m.\u001b[39mSchemaError \u001b[39mas\u001b[39;00m err:\n\u001b[1;32m-> 2032\u001b[0m     error_handler\u001b[39m.\u001b[39;49mcollect_error(\u001b[39m\"\u001b[39;49m\u001b[39mdataframe_check\u001b[39;49m\u001b[39m\"\u001b[39;49m, err)\n\u001b[0;32m   2033\u001b[0m \u001b[39mexcept\u001b[39;00m \u001b[39mException\u001b[39;00m \u001b[39mas\u001b[39;00m err:  \u001b[39m# pylint: disable=broad-except\u001b[39;00m\n\u001b[0;32m   2034\u001b[0m     \u001b[39m# catch other exceptions that may occur when executing the\u001b[39;00m\n\u001b[0;32m   2035\u001b[0m     \u001b[39m# Check\u001b[39;00m\n",
      "File \u001b[1;32m~\\AppData\\Local\\Packages\\PythonSoftwareFoundation.Python.3.10_qbz5n2kfra8p0\\LocalCache\\local-packages\\Python310\\site-packages\\pandera\\error_handlers.py:32\u001b[0m, in \u001b[0;36mSchemaErrorHandler.collect_error\u001b[1;34m(self, reason_code, schema_error, original_exc)\u001b[0m\n\u001b[0;32m     31\u001b[0m \u001b[39mif\u001b[39;00m \u001b[39mnot\u001b[39;00m \u001b[39mself\u001b[39m\u001b[39m.\u001b[39m_lazy:\n\u001b[1;32m---> 32\u001b[0m     \u001b[39mraise\u001b[39;00m schema_error \u001b[39mfrom\u001b[39;00m \u001b[39moriginal_exc\u001b[39;00m\n\u001b[0;32m     34\u001b[0m \u001b[39m# delete data of validated object from SchemaError object to prevent\u001b[39;00m\n\u001b[0;32m     35\u001b[0m \u001b[39m# storing copies of the validated DataFrame/Series for every\u001b[39;00m\n\u001b[0;32m     36\u001b[0m \u001b[39m# SchemaError collected.\u001b[39;00m\n",
      "File \u001b[1;32m~\\AppData\\Local\\Packages\\PythonSoftwareFoundation.Python.3.10_qbz5n2kfra8p0\\LocalCache\\local-packages\\Python310\\site-packages\\pandera\\schemas.py:2027\u001b[0m, in \u001b[0;36mSeriesSchemaBase.validate\u001b[1;34m(self, check_obj, head, tail, sample, random_state, lazy, inplace)\u001b[0m\n\u001b[0;32m   2025\u001b[0m \u001b[39mtry\u001b[39;00m:\n\u001b[0;32m   2026\u001b[0m     check_results\u001b[39m.\u001b[39mappend(\n\u001b[1;32m-> 2027\u001b[0m         _handle_check_results(\n\u001b[0;32m   2028\u001b[0m             \u001b[39mself\u001b[39;49m, check_index, check, check_obj, \u001b[39m*\u001b[39;49mcheck_args\n\u001b[0;32m   2029\u001b[0m         )\n\u001b[0;32m   2030\u001b[0m     )\n\u001b[0;32m   2031\u001b[0m \u001b[39mexcept\u001b[39;00m errors\u001b[39m.\u001b[39mSchemaError \u001b[39mas\u001b[39;00m err:\n",
      "File \u001b[1;32m~\\AppData\\Local\\Packages\\PythonSoftwareFoundation.Python.3.10_qbz5n2kfra8p0\\LocalCache\\local-packages\\Python310\\site-packages\\pandera\\schemas.py:2413\u001b[0m, in \u001b[0;36m_handle_check_results\u001b[1;34m(schema, check_index, check, check_obj, *check_args)\u001b[0m\n\u001b[0;32m   2412\u001b[0m         \u001b[39mreturn\u001b[39;00m \u001b[39mTrue\u001b[39;00m\n\u001b[1;32m-> 2413\u001b[0m     \u001b[39mraise\u001b[39;00m errors\u001b[39m.\u001b[39mSchemaError(\n\u001b[0;32m   2414\u001b[0m         schema,\n\u001b[0;32m   2415\u001b[0m         check_obj,\n\u001b[0;32m   2416\u001b[0m         error_msg,\n\u001b[0;32m   2417\u001b[0m         failure_cases\u001b[39m=\u001b[39mfailure_cases,\n\u001b[0;32m   2418\u001b[0m         check\u001b[39m=\u001b[39mcheck,\n\u001b[0;32m   2419\u001b[0m         check_index\u001b[39m=\u001b[39mcheck_index,\n\u001b[0;32m   2420\u001b[0m         check_output\u001b[39m=\u001b[39mcheck_result\u001b[39m.\u001b[39mcheck_output,\n\u001b[0;32m   2421\u001b[0m     )\n\u001b[0;32m   2422\u001b[0m \u001b[39mreturn\u001b[39;00m check_result\u001b[39m.\u001b[39mcheck_passed\n",
      "\u001b[1;31mSchemaError\u001b[0m: <Schema Column(name=year, type=DataType(int64))> failed element-wise validator 0:\n<Check greater_than: greater_than(2000)>\nfailure cases:\n   index  failure_case\n0      2          1999",
      "\nThe above exception was the direct cause of the following exception:\n",
      "\u001b[1;31mSchemaError\u001b[0m                               Traceback (most recent call last)",
      "Cell \u001b[1;32mIn [13], line 1\u001b[0m\n\u001b[1;32m----> 1\u001b[0m \u001b[43mtransform\u001b[49m\u001b[43m(\u001b[49m\u001b[43minvalid_df\u001b[49m\u001b[43m)\u001b[49m\n",
      "File \u001b[1;32m~\\AppData\\Local\\Packages\\PythonSoftwareFoundation.Python.3.10_qbz5n2kfra8p0\\LocalCache\\local-packages\\Python310\\site-packages\\pandera\\decorators.py:650\u001b[0m, in \u001b[0;36mcheck_types.<locals>._wrapper\u001b[1;34m(wrapped_, instance, args, kwargs)\u001b[0m\n\u001b[0;32m    648\u001b[0m     out \u001b[39m=\u001b[39m validate_arguments(wrapped_)(\u001b[39m*\u001b[39margs, \u001b[39m*\u001b[39m\u001b[39m*\u001b[39mkwargs)\n\u001b[0;32m    649\u001b[0m \u001b[39melse\u001b[39;00m:\n\u001b[1;32m--> 650\u001b[0m     validated_pos, validated_kwd \u001b[39m=\u001b[39m validate_inputs(\n\u001b[0;32m    651\u001b[0m         instance, args, kwargs\n\u001b[0;32m    652\u001b[0m     )\n\u001b[0;32m    653\u001b[0m     out \u001b[39m=\u001b[39m wrapped_(\u001b[39m*\u001b[39mvalidated_pos\u001b[39m.\u001b[39mvalues(), \u001b[39m*\u001b[39m\u001b[39m*\u001b[39mvalidated_kwd)\n\u001b[0;32m    654\u001b[0m \u001b[39mreturn\u001b[39;00m _check_arg(\u001b[39m\"\u001b[39m\u001b[39mreturn\u001b[39m\u001b[39m\"\u001b[39m, out)\n",
      "File \u001b[1;32m~\\AppData\\Local\\Packages\\PythonSoftwareFoundation.Python.3.10_qbz5n2kfra8p0\\LocalCache\\local-packages\\Python310\\site-packages\\pandera\\decorators.py:609\u001b[0m, in \u001b[0;36mcheck_types.<locals>.validate_inputs\u001b[1;34m(instance, args, kwargs)\u001b[0m\n\u001b[0;32m    605\u001b[0m \u001b[39mif\u001b[39;00m instance \u001b[39mis\u001b[39;00m \u001b[39mnot\u001b[39;00m \u001b[39mNone\u001b[39;00m:\n\u001b[0;32m    606\u001b[0m     \u001b[39m# If the wrapped function is a method -> add \"self\" as the first positional arg\u001b[39;00m\n\u001b[0;32m    607\u001b[0m     args \u001b[39m=\u001b[39m (instance, \u001b[39m*\u001b[39margs)\n\u001b[1;32m--> 609\u001b[0m validated_pos \u001b[39m=\u001b[39m validate_args(sig\u001b[39m.\u001b[39;49mbind_partial(\u001b[39m*\u001b[39;49margs)\u001b[39m.\u001b[39;49marguments)\n\u001b[0;32m    610\u001b[0m validated_kwd \u001b[39m=\u001b[39m validate_args(sig\u001b[39m.\u001b[39mbind_partial(\u001b[39m*\u001b[39m\u001b[39m*\u001b[39mkwargs)\u001b[39m.\u001b[39marguments)\n\u001b[0;32m    612\u001b[0m \u001b[39mif\u001b[39;00m instance \u001b[39mis\u001b[39;00m \u001b[39mnot\u001b[39;00m \u001b[39mNone\u001b[39;00m:\n\u001b[0;32m    613\u001b[0m     \u001b[39m# If the decorated func is a method, \"wrapped\" is a bound method\u001b[39;00m\n\u001b[0;32m    614\u001b[0m     \u001b[39m# -> remove \"self\" before passing positional args through\u001b[39;00m\n",
      "File \u001b[1;32m~\\AppData\\Local\\Packages\\PythonSoftwareFoundation.Python.3.10_qbz5n2kfra8p0\\LocalCache\\local-packages\\Python310\\site-packages\\pandera\\decorators.py:594\u001b[0m, in \u001b[0;36mcheck_types.<locals>.validate_args\u001b[1;34m(arguments)\u001b[0m\n\u001b[0;32m    593\u001b[0m \u001b[39mdef\u001b[39;00m \u001b[39mvalidate_args\u001b[39m(arguments: Dict[\u001b[39mstr\u001b[39m, Any]) \u001b[39m-\u001b[39m\u001b[39m>\u001b[39m Dict[\u001b[39mstr\u001b[39m, Any]:\n\u001b[1;32m--> 594\u001b[0m     \u001b[39mreturn\u001b[39;00m {\n\u001b[0;32m    595\u001b[0m         arg_name: _check_arg(arg_name, arg_value)\n\u001b[0;32m    596\u001b[0m         \u001b[39mfor\u001b[39;00m arg_name, arg_value \u001b[39min\u001b[39;00m arguments\u001b[39m.\u001b[39mitems()\n\u001b[0;32m    597\u001b[0m     }\n",
      "File \u001b[1;32m~\\AppData\\Local\\Packages\\PythonSoftwareFoundation.Python.3.10_qbz5n2kfra8p0\\LocalCache\\local-packages\\Python310\\site-packages\\pandera\\decorators.py:595\u001b[0m, in \u001b[0;36m<dictcomp>\u001b[1;34m(.0)\u001b[0m\n\u001b[0;32m    593\u001b[0m \u001b[39mdef\u001b[39;00m \u001b[39mvalidate_args\u001b[39m(arguments: Dict[\u001b[39mstr\u001b[39m, Any]) \u001b[39m-\u001b[39m\u001b[39m>\u001b[39m Dict[\u001b[39mstr\u001b[39m, Any]:\n\u001b[0;32m    594\u001b[0m     \u001b[39mreturn\u001b[39;00m {\n\u001b[1;32m--> 595\u001b[0m         arg_name: _check_arg(arg_name, arg_value)\n\u001b[0;32m    596\u001b[0m         \u001b[39mfor\u001b[39;00m arg_name, arg_value \u001b[39min\u001b[39;00m arguments\u001b[39m.\u001b[39mitems()\n\u001b[0;32m    597\u001b[0m     }\n",
      "File \u001b[1;32m~\\AppData\\Local\\Packages\\PythonSoftwareFoundation.Python.3.10_qbz5n2kfra8p0\\LocalCache\\local-packages\\Python310\\site-packages\\pandera\\decorators.py:582\u001b[0m, in \u001b[0;36mcheck_types.<locals>._check_arg\u001b[1;34m(arg_name, arg_value)\u001b[0m\n\u001b[0;32m    572\u001b[0m         arg_value \u001b[39m=\u001b[39m schema\u001b[39m.\u001b[39mvalidate(\n\u001b[0;32m    573\u001b[0m             arg_value,\n\u001b[0;32m    574\u001b[0m             head,\n\u001b[1;32m   (...)\u001b[0m\n\u001b[0;32m    579\u001b[0m             inplace,\n\u001b[0;32m    580\u001b[0m         )\n\u001b[0;32m    581\u001b[0m     \u001b[39mexcept\u001b[39;00m errors\u001b[39m.\u001b[39mSchemaError \u001b[39mas\u001b[39;00m e:\n\u001b[1;32m--> 582\u001b[0m         _handle_schema_error(\n\u001b[0;32m    583\u001b[0m             \u001b[39m\"\u001b[39;49m\u001b[39mcheck_types\u001b[39;49m\u001b[39m\"\u001b[39;49m, wrapped, schema, arg_value, e\n\u001b[0;32m    584\u001b[0m         )\n\u001b[0;32m    586\u001b[0m \u001b[39mif\u001b[39;00m data_container_type \u001b[39mand\u001b[39;00m config \u001b[39mand\u001b[39;00m config\u001b[39m.\u001b[39mto_format:\n\u001b[0;32m    587\u001b[0m     arg_value \u001b[39m=\u001b[39m data_container_type\u001b[39m.\u001b[39mto_format(arg_value, config)\n",
      "File \u001b[1;32m~\\AppData\\Local\\Packages\\PythonSoftwareFoundation.Python.3.10_qbz5n2kfra8p0\\LocalCache\\local-packages\\Python310\\site-packages\\pandera\\decorators.py:94\u001b[0m, in \u001b[0;36m_handle_schema_error\u001b[1;34m(decorator_name, fn, schema, arg_df, schema_error)\u001b[0m\n\u001b[0;32m     84\u001b[0m \u001b[39m\"\"\"Reraise schema validation error with decorator context.\u001b[39;00m\n\u001b[0;32m     85\u001b[0m \n\u001b[0;32m     86\u001b[0m \u001b[39m:param fn: check the DataFrame or Series input of this function.\u001b[39;00m\n\u001b[1;32m   (...)\u001b[0m\n\u001b[0;32m     91\u001b[0m \u001b[39m    checks.\u001b[39;00m\n\u001b[0;32m     92\u001b[0m \u001b[39m\"\"\"\u001b[39;00m\n\u001b[0;32m     93\u001b[0m msg \u001b[39m=\u001b[39m \u001b[39mf\u001b[39m\u001b[39m\"\u001b[39m\u001b[39merror in \u001b[39m\u001b[39m{\u001b[39;00mdecorator_name\u001b[39m}\u001b[39;00m\u001b[39m decorator of function \u001b[39m\u001b[39m'\u001b[39m\u001b[39m{\u001b[39;00mfn\u001b[39m.\u001b[39m\u001b[39m__name__\u001b[39m\u001b[39m}\u001b[39;00m\u001b[39m'\u001b[39m\u001b[39m: \u001b[39m\u001b[39m{\u001b[39;00mschema_error\u001b[39m}\u001b[39;00m\u001b[39m\"\u001b[39m\n\u001b[1;32m---> 94\u001b[0m \u001b[39mraise\u001b[39;00m errors\u001b[39m.\u001b[39mSchemaError(\n\u001b[0;32m     95\u001b[0m     schema,\n\u001b[0;32m     96\u001b[0m     arg_df,\n\u001b[0;32m     97\u001b[0m     msg,\n\u001b[0;32m     98\u001b[0m     failure_cases\u001b[39m=\u001b[39mschema_error\u001b[39m.\u001b[39mfailure_cases,\n\u001b[0;32m     99\u001b[0m     check\u001b[39m=\u001b[39mschema_error\u001b[39m.\u001b[39mcheck,\n\u001b[0;32m    100\u001b[0m     check_index\u001b[39m=\u001b[39mschema_error\u001b[39m.\u001b[39mcheck_index,\n\u001b[0;32m    101\u001b[0m ) \u001b[39mfrom\u001b[39;00m \u001b[39mschema_error\u001b[39;00m\n",
      "\u001b[1;31mSchemaError\u001b[0m: error in check_types decorator of function 'transform': <Schema Column(name=year, type=DataType(int64))> failed element-wise validator 0:\n<Check greater_than: greater_than(2000)>\nfailure cases:\n   index  failure_case\n0      2          1999"
     ]
    }
   ],
   "source": [
    "transform(invalid_df)"
   ]
  },
  {
   "cell_type": "markdown",
   "metadata": {},
   "source": [
    "Using the `validate` function on the `invalid_df` DataFrame also returns a `SchemaError` with\n",
    "a summary of the records that did not pass the validation tests:"
   ]
  },
  {
   "cell_type": "code",
   "execution_count": 14,
   "metadata": {},
   "outputs": [
    {
     "ename": "SchemaError",
     "evalue": "<Schema Column(name=year, type=DataType(int64))> failed element-wise validator 0:\n<Check greater_than: greater_than(2000)>\nfailure cases:\n   index  failure_case\n0      2          1999",
     "output_type": "error",
     "traceback": [
      "\u001b[1;31m---------------------------------------------------------------------------\u001b[0m",
      "\u001b[1;31mSchemaError\u001b[0m                               Traceback (most recent call last)",
      "Cell \u001b[1;32mIn [14], line 1\u001b[0m\n\u001b[1;32m----> 1\u001b[0m \u001b[38;5;28mprint\u001b[39m(\u001b[43mInputSchema\u001b[49m\u001b[38;5;241;43m.\u001b[39;49m\u001b[43mvalidate\u001b[49m\u001b[43m(\u001b[49m\u001b[43minvalid_df\u001b[49m\u001b[43m)\u001b[49m)\n",
      "File \u001b[1;32m~\\AppData\\Local\\Packages\\PythonSoftwareFoundation.Python.3.10_qbz5n2kfra8p0\\LocalCache\\local-packages\\Python310\\site-packages\\pandera\\model.py:264\u001b[0m, in \u001b[0;36mSchemaModel.validate\u001b[1;34m(cls, check_obj, head, tail, sample, random_state, lazy, inplace)\u001b[0m\n\u001b[0;32m    249\u001b[0m \u001b[39m@classmethod\u001b[39m\n\u001b[0;32m    250\u001b[0m \u001b[39m@docstring_substitution\u001b[39m(validate_doc\u001b[39m=\u001b[39mDataFrameSchema\u001b[39m.\u001b[39mvalidate\u001b[39m.\u001b[39m\u001b[39m__doc__\u001b[39m)\n\u001b[0;32m    251\u001b[0m \u001b[39mdef\u001b[39;00m \u001b[39mvalidate\u001b[39m(\n\u001b[1;32m   (...)\u001b[0m\n\u001b[0;32m    259\u001b[0m     inplace: \u001b[39mbool\u001b[39m \u001b[39m=\u001b[39m \u001b[39mFalse\u001b[39;00m,\n\u001b[0;32m    260\u001b[0m ) \u001b[39m-\u001b[39m\u001b[39m>\u001b[39m DataFrameBase[TSchemaModel]:\n\u001b[0;32m    261\u001b[0m     \u001b[39m\"\"\"%(validate_doc)s\"\"\"\u001b[39;00m\n\u001b[0;32m    262\u001b[0m     \u001b[39mreturn\u001b[39;00m cast(\n\u001b[0;32m    263\u001b[0m         DataFrameBase[TSchemaModel],\n\u001b[1;32m--> 264\u001b[0m         \u001b[39mcls\u001b[39;49m\u001b[39m.\u001b[39;49mto_schema()\u001b[39m.\u001b[39;49mvalidate(\n\u001b[0;32m    265\u001b[0m             check_obj, head, tail, sample, random_state, lazy, inplace\n\u001b[0;32m    266\u001b[0m         ),\n\u001b[0;32m    267\u001b[0m     )\n",
      "File \u001b[1;32m~\\AppData\\Local\\Packages\\PythonSoftwareFoundation.Python.3.10_qbz5n2kfra8p0\\LocalCache\\local-packages\\Python310\\site-packages\\pandera\\schemas.py:518\u001b[0m, in \u001b[0;36mDataFrameSchema.validate\u001b[1;34m(self, check_obj, head, tail, sample, random_state, lazy, inplace)\u001b[0m\n\u001b[0;32m    505\u001b[0m     check_obj \u001b[39m=\u001b[39m check_obj\u001b[39m.\u001b[39mmap_partitions(\n\u001b[0;32m    506\u001b[0m         \u001b[39mself\u001b[39m\u001b[39m.\u001b[39m_validate,\n\u001b[0;32m    507\u001b[0m         head\u001b[39m=\u001b[39mhead,\n\u001b[1;32m   (...)\u001b[0m\n\u001b[0;32m    513\u001b[0m         meta\u001b[39m=\u001b[39mcheck_obj,\n\u001b[0;32m    514\u001b[0m     )\n\u001b[0;32m    516\u001b[0m     \u001b[39mreturn\u001b[39;00m check_obj\u001b[39m.\u001b[39mpandera\u001b[39m.\u001b[39madd_schema(\u001b[39mself\u001b[39m)\n\u001b[1;32m--> 518\u001b[0m \u001b[39mreturn\u001b[39;00m \u001b[39mself\u001b[39;49m\u001b[39m.\u001b[39;49m_validate(\n\u001b[0;32m    519\u001b[0m     check_obj\u001b[39m=\u001b[39;49mcheck_obj,\n\u001b[0;32m    520\u001b[0m     head\u001b[39m=\u001b[39;49mhead,\n\u001b[0;32m    521\u001b[0m     tail\u001b[39m=\u001b[39;49mtail,\n\u001b[0;32m    522\u001b[0m     sample\u001b[39m=\u001b[39;49msample,\n\u001b[0;32m    523\u001b[0m     random_state\u001b[39m=\u001b[39;49mrandom_state,\n\u001b[0;32m    524\u001b[0m     lazy\u001b[39m=\u001b[39;49mlazy,\n\u001b[0;32m    525\u001b[0m     inplace\u001b[39m=\u001b[39;49minplace,\n\u001b[0;32m    526\u001b[0m )\n",
      "File \u001b[1;32m~\\AppData\\Local\\Packages\\PythonSoftwareFoundation.Python.3.10_qbz5n2kfra8p0\\LocalCache\\local-packages\\Python310\\site-packages\\pandera\\schemas.py:716\u001b[0m, in \u001b[0;36mDataFrameSchema._validate\u001b[1;34m(self, check_obj, head, tail, sample, random_state, lazy, inplace)\u001b[0m\n\u001b[0;32m    714\u001b[0m     check_results\u001b[39m.\u001b[39mappend(check_utils\u001b[39m.\u001b[39mis_table(result))\n\u001b[0;32m    715\u001b[0m \u001b[39mexcept\u001b[39;00m errors\u001b[39m.\u001b[39mSchemaError \u001b[39mas\u001b[39;00m err:\n\u001b[1;32m--> 716\u001b[0m     error_handler\u001b[39m.\u001b[39;49mcollect_error(\u001b[39m\"\u001b[39;49m\u001b[39mschema_component_check\u001b[39;49m\u001b[39m\"\u001b[39;49m, err)\n\u001b[0;32m    717\u001b[0m \u001b[39mexcept\u001b[39;00m errors\u001b[39m.\u001b[39mSchemaErrors \u001b[39mas\u001b[39;00m err:\n\u001b[0;32m    718\u001b[0m     \u001b[39mfor\u001b[39;00m schema_error_dict \u001b[39min\u001b[39;00m err\u001b[39m.\u001b[39mschema_errors:\n",
      "File \u001b[1;32m~\\AppData\\Local\\Packages\\PythonSoftwareFoundation.Python.3.10_qbz5n2kfra8p0\\LocalCache\\local-packages\\Python310\\site-packages\\pandera\\error_handlers.py:32\u001b[0m, in \u001b[0;36mSchemaErrorHandler.collect_error\u001b[1;34m(self, reason_code, schema_error, original_exc)\u001b[0m\n\u001b[0;32m     26\u001b[0m \u001b[39m\"\"\"Collect schema error, raising exception if lazy is False.\u001b[39;00m\n\u001b[0;32m     27\u001b[0m \n\u001b[0;32m     28\u001b[0m \u001b[39m:param reason_code: string representing reason for error\u001b[39;00m\n\u001b[0;32m     29\u001b[0m \u001b[39m:param schema_error: ``SchemaError`` object.\u001b[39;00m\n\u001b[0;32m     30\u001b[0m \u001b[39m\"\"\"\u001b[39;00m\n\u001b[0;32m     31\u001b[0m \u001b[39mif\u001b[39;00m \u001b[39mnot\u001b[39;00m \u001b[39mself\u001b[39m\u001b[39m.\u001b[39m_lazy:\n\u001b[1;32m---> 32\u001b[0m     \u001b[39mraise\u001b[39;00m schema_error \u001b[39mfrom\u001b[39;00m \u001b[39moriginal_exc\u001b[39;00m\n\u001b[0;32m     34\u001b[0m \u001b[39m# delete data of validated object from SchemaError object to prevent\u001b[39;00m\n\u001b[0;32m     35\u001b[0m \u001b[39m# storing copies of the validated DataFrame/Series for every\u001b[39;00m\n\u001b[0;32m     36\u001b[0m \u001b[39m# SchemaError collected.\u001b[39;00m\n\u001b[0;32m     37\u001b[0m \u001b[39mdel\u001b[39;00m schema_error\u001b[39m.\u001b[39mdata\n",
      "File \u001b[1;32m~\\AppData\\Local\\Packages\\PythonSoftwareFoundation.Python.3.10_qbz5n2kfra8p0\\LocalCache\\local-packages\\Python310\\site-packages\\pandera\\schemas.py:708\u001b[0m, in \u001b[0;36mDataFrameSchema._validate\u001b[1;34m(self, check_obj, head, tail, sample, random_state, lazy, inplace)\u001b[0m\n\u001b[0;32m    706\u001b[0m \u001b[39mfor\u001b[39;00m schema_component \u001b[39min\u001b[39;00m schema_components:\n\u001b[0;32m    707\u001b[0m     \u001b[39mtry\u001b[39;00m:\n\u001b[1;32m--> 708\u001b[0m         result \u001b[39m=\u001b[39m schema_component(\n\u001b[0;32m    709\u001b[0m             df_to_validate,\n\u001b[0;32m    710\u001b[0m             lazy\u001b[39m=\u001b[39;49mlazy,\n\u001b[0;32m    711\u001b[0m             \u001b[39m# don't make a copy of the data\u001b[39;49;00m\n\u001b[0;32m    712\u001b[0m             inplace\u001b[39m=\u001b[39;49m\u001b[39mTrue\u001b[39;49;00m,\n\u001b[0;32m    713\u001b[0m         )\n\u001b[0;32m    714\u001b[0m         check_results\u001b[39m.\u001b[39mappend(check_utils\u001b[39m.\u001b[39mis_table(result))\n\u001b[0;32m    715\u001b[0m     \u001b[39mexcept\u001b[39;00m errors\u001b[39m.\u001b[39mSchemaError \u001b[39mas\u001b[39;00m err:\n",
      "File \u001b[1;32m~\\AppData\\Local\\Packages\\PythonSoftwareFoundation.Python.3.10_qbz5n2kfra8p0\\LocalCache\\local-packages\\Python310\\site-packages\\pandera\\schemas.py:2074\u001b[0m, in \u001b[0;36mSeriesSchemaBase.__call__\u001b[1;34m(self, check_obj, head, tail, sample, random_state, lazy, inplace)\u001b[0m\n\u001b[0;32m   2063\u001b[0m \u001b[39mdef\u001b[39;00m \u001b[39m__call__\u001b[39m(\n\u001b[0;32m   2064\u001b[0m     \u001b[39mself\u001b[39m,\n\u001b[0;32m   2065\u001b[0m     check_obj: Union[pd\u001b[39m.\u001b[39mDataFrame, pd\u001b[39m.\u001b[39mSeries],\n\u001b[1;32m   (...)\u001b[0m\n\u001b[0;32m   2071\u001b[0m     inplace: \u001b[39mbool\u001b[39m \u001b[39m=\u001b[39m \u001b[39mFalse\u001b[39;00m,\n\u001b[0;32m   2072\u001b[0m ) \u001b[39m-\u001b[39m\u001b[39m>\u001b[39m Union[pd\u001b[39m.\u001b[39mDataFrame, pd\u001b[39m.\u001b[39mSeries]:\n\u001b[0;32m   2073\u001b[0m     \u001b[39m\"\"\"Alias for ``validate`` method.\"\"\"\u001b[39;00m\n\u001b[1;32m-> 2074\u001b[0m     \u001b[39mreturn\u001b[39;00m \u001b[39mself\u001b[39;49m\u001b[39m.\u001b[39;49mvalidate(\n\u001b[0;32m   2075\u001b[0m         check_obj, head, tail, sample, random_state, lazy, inplace\n\u001b[0;32m   2076\u001b[0m     )\n",
      "File \u001b[1;32m~\\AppData\\Local\\Packages\\PythonSoftwareFoundation.Python.3.10_qbz5n2kfra8p0\\LocalCache\\local-packages\\Python310\\site-packages\\pandera\\schema_components.py:215\u001b[0m, in \u001b[0;36mColumn.validate\u001b[1;34m(self, check_obj, head, tail, sample, random_state, lazy, inplace)\u001b[0m\n\u001b[0;32m    211\u001b[0m             validate_column(\n\u001b[0;32m    212\u001b[0m                 check_obj[column_name]\u001b[39m.\u001b[39miloc[:, [i]], column_name\n\u001b[0;32m    213\u001b[0m             )\n\u001b[0;32m    214\u001b[0m     \u001b[39melse\u001b[39;00m:\n\u001b[1;32m--> 215\u001b[0m         validate_column(check_obj, column_name)\n\u001b[0;32m    217\u001b[0m \u001b[39mreturn\u001b[39;00m check_obj\n",
      "File \u001b[1;32m~\\AppData\\Local\\Packages\\PythonSoftwareFoundation.Python.3.10_qbz5n2kfra8p0\\LocalCache\\local-packages\\Python310\\site-packages\\pandera\\schema_components.py:188\u001b[0m, in \u001b[0;36mColumn.validate.<locals>.validate_column\u001b[1;34m(check_obj, column_name)\u001b[0m\n\u001b[0;32m    187\u001b[0m \u001b[39mdef\u001b[39;00m \u001b[39mvalidate_column\u001b[39m(check_obj, column_name):\n\u001b[1;32m--> 188\u001b[0m     \u001b[39msuper\u001b[39;49m(Column, copy(\u001b[39mself\u001b[39;49m)\u001b[39m.\u001b[39;49mset_name(column_name))\u001b[39m.\u001b[39;49mvalidate(\n\u001b[0;32m    189\u001b[0m         check_obj,\n\u001b[0;32m    190\u001b[0m         head,\n\u001b[0;32m    191\u001b[0m         tail,\n\u001b[0;32m    192\u001b[0m         sample,\n\u001b[0;32m    193\u001b[0m         random_state,\n\u001b[0;32m    194\u001b[0m         lazy,\n\u001b[0;32m    195\u001b[0m         inplace\u001b[39m=\u001b[39;49minplace,\n\u001b[0;32m    196\u001b[0m     )\n",
      "File \u001b[1;32m~\\AppData\\Local\\Packages\\PythonSoftwareFoundation.Python.3.10_qbz5n2kfra8p0\\LocalCache\\local-packages\\Python310\\site-packages\\pandera\\schemas.py:2032\u001b[0m, in \u001b[0;36mSeriesSchemaBase.validate\u001b[1;34m(self, check_obj, head, tail, sample, random_state, lazy, inplace)\u001b[0m\n\u001b[0;32m   2026\u001b[0m     check_results\u001b[39m.\u001b[39mappend(\n\u001b[0;32m   2027\u001b[0m         _handle_check_results(\n\u001b[0;32m   2028\u001b[0m             \u001b[39mself\u001b[39m, check_index, check, check_obj, \u001b[39m*\u001b[39mcheck_args\n\u001b[0;32m   2029\u001b[0m         )\n\u001b[0;32m   2030\u001b[0m     )\n\u001b[0;32m   2031\u001b[0m \u001b[39mexcept\u001b[39;00m errors\u001b[39m.\u001b[39mSchemaError \u001b[39mas\u001b[39;00m err:\n\u001b[1;32m-> 2032\u001b[0m     error_handler\u001b[39m.\u001b[39;49mcollect_error(\u001b[39m\"\u001b[39;49m\u001b[39mdataframe_check\u001b[39;49m\u001b[39m\"\u001b[39;49m, err)\n\u001b[0;32m   2033\u001b[0m \u001b[39mexcept\u001b[39;00m \u001b[39mException\u001b[39;00m \u001b[39mas\u001b[39;00m err:  \u001b[39m# pylint: disable=broad-except\u001b[39;00m\n\u001b[0;32m   2034\u001b[0m     \u001b[39m# catch other exceptions that may occur when executing the\u001b[39;00m\n\u001b[0;32m   2035\u001b[0m     \u001b[39m# Check\u001b[39;00m\n\u001b[0;32m   2036\u001b[0m     err_msg \u001b[39m=\u001b[39m \u001b[39mf\u001b[39m\u001b[39m'\u001b[39m\u001b[39m\"\u001b[39m\u001b[39m{\u001b[39;00merr\u001b[39m.\u001b[39margs[\u001b[39m0\u001b[39m]\u001b[39m}\u001b[39;00m\u001b[39m\"\u001b[39m\u001b[39m'\u001b[39m \u001b[39mif\u001b[39;00m \u001b[39mlen\u001b[39m(err\u001b[39m.\u001b[39margs) \u001b[39m>\u001b[39m \u001b[39m0\u001b[39m \u001b[39melse\u001b[39;00m \u001b[39m\"\u001b[39m\u001b[39m\"\u001b[39m\n",
      "File \u001b[1;32m~\\AppData\\Local\\Packages\\PythonSoftwareFoundation.Python.3.10_qbz5n2kfra8p0\\LocalCache\\local-packages\\Python310\\site-packages\\pandera\\error_handlers.py:32\u001b[0m, in \u001b[0;36mSchemaErrorHandler.collect_error\u001b[1;34m(self, reason_code, schema_error, original_exc)\u001b[0m\n\u001b[0;32m     26\u001b[0m \u001b[39m\"\"\"Collect schema error, raising exception if lazy is False.\u001b[39;00m\n\u001b[0;32m     27\u001b[0m \n\u001b[0;32m     28\u001b[0m \u001b[39m:param reason_code: string representing reason for error\u001b[39;00m\n\u001b[0;32m     29\u001b[0m \u001b[39m:param schema_error: ``SchemaError`` object.\u001b[39;00m\n\u001b[0;32m     30\u001b[0m \u001b[39m\"\"\"\u001b[39;00m\n\u001b[0;32m     31\u001b[0m \u001b[39mif\u001b[39;00m \u001b[39mnot\u001b[39;00m \u001b[39mself\u001b[39m\u001b[39m.\u001b[39m_lazy:\n\u001b[1;32m---> 32\u001b[0m     \u001b[39mraise\u001b[39;00m schema_error \u001b[39mfrom\u001b[39;00m \u001b[39moriginal_exc\u001b[39;00m\n\u001b[0;32m     34\u001b[0m \u001b[39m# delete data of validated object from SchemaError object to prevent\u001b[39;00m\n\u001b[0;32m     35\u001b[0m \u001b[39m# storing copies of the validated DataFrame/Series for every\u001b[39;00m\n\u001b[0;32m     36\u001b[0m \u001b[39m# SchemaError collected.\u001b[39;00m\n\u001b[0;32m     37\u001b[0m \u001b[39mdel\u001b[39;00m schema_error\u001b[39m.\u001b[39mdata\n",
      "File \u001b[1;32m~\\AppData\\Local\\Packages\\PythonSoftwareFoundation.Python.3.10_qbz5n2kfra8p0\\LocalCache\\local-packages\\Python310\\site-packages\\pandera\\schemas.py:2027\u001b[0m, in \u001b[0;36mSeriesSchemaBase.validate\u001b[1;34m(self, check_obj, head, tail, sample, random_state, lazy, inplace)\u001b[0m\n\u001b[0;32m   2024\u001b[0m \u001b[39mfor\u001b[39;00m check_index, check \u001b[39min\u001b[39;00m \u001b[39menumerate\u001b[39m(\u001b[39mself\u001b[39m\u001b[39m.\u001b[39mchecks):\n\u001b[0;32m   2025\u001b[0m     \u001b[39mtry\u001b[39;00m:\n\u001b[0;32m   2026\u001b[0m         check_results\u001b[39m.\u001b[39mappend(\n\u001b[1;32m-> 2027\u001b[0m             _handle_check_results(\n\u001b[0;32m   2028\u001b[0m                 \u001b[39mself\u001b[39;49m, check_index, check, check_obj, \u001b[39m*\u001b[39;49mcheck_args\n\u001b[0;32m   2029\u001b[0m             )\n\u001b[0;32m   2030\u001b[0m         )\n\u001b[0;32m   2031\u001b[0m     \u001b[39mexcept\u001b[39;00m errors\u001b[39m.\u001b[39mSchemaError \u001b[39mas\u001b[39;00m err:\n\u001b[0;32m   2032\u001b[0m         error_handler\u001b[39m.\u001b[39mcollect_error(\u001b[39m\"\u001b[39m\u001b[39mdataframe_check\u001b[39m\u001b[39m\"\u001b[39m, err)\n",
      "File \u001b[1;32m~\\AppData\\Local\\Packages\\PythonSoftwareFoundation.Python.3.10_qbz5n2kfra8p0\\LocalCache\\local-packages\\Python310\\site-packages\\pandera\\schemas.py:2413\u001b[0m, in \u001b[0;36m_handle_check_results\u001b[1;34m(schema, check_index, check, check_obj, *check_args)\u001b[0m\n\u001b[0;32m   2411\u001b[0m         warnings\u001b[39m.\u001b[39mwarn(error_msg, \u001b[39mUserWarning\u001b[39;00m)\n\u001b[0;32m   2412\u001b[0m         \u001b[39mreturn\u001b[39;00m \u001b[39mTrue\u001b[39;00m\n\u001b[1;32m-> 2413\u001b[0m     \u001b[39mraise\u001b[39;00m errors\u001b[39m.\u001b[39mSchemaError(\n\u001b[0;32m   2414\u001b[0m         schema,\n\u001b[0;32m   2415\u001b[0m         check_obj,\n\u001b[0;32m   2416\u001b[0m         error_msg,\n\u001b[0;32m   2417\u001b[0m         failure_cases\u001b[39m=\u001b[39mfailure_cases,\n\u001b[0;32m   2418\u001b[0m         check\u001b[39m=\u001b[39mcheck,\n\u001b[0;32m   2419\u001b[0m         check_index\u001b[39m=\u001b[39mcheck_index,\n\u001b[0;32m   2420\u001b[0m         check_output\u001b[39m=\u001b[39mcheck_result\u001b[39m.\u001b[39mcheck_output,\n\u001b[0;32m   2421\u001b[0m     )\n\u001b[0;32m   2422\u001b[0m \u001b[39mreturn\u001b[39;00m check_result\u001b[39m.\u001b[39mcheck_passed\n",
      "\u001b[1;31mSchemaError\u001b[0m: <Schema Column(name=year, type=DataType(int64))> failed element-wise validator 0:\n<Check greater_than: greater_than(2000)>\nfailure cases:\n   index  failure_case\n0      2          1999"
     ]
    }
   ],
   "source": [
    "print(InputSchema.validate(invalid_df))"
   ]
  },
  {
   "cell_type": "markdown",
   "metadata": {},
   "source": [
    "## Custom Checks\n",
    "\n",
    "Custom checks can be added as class methods to the Schema Model definitions.\n",
    "\n",
    "For example, let's say we wanted to add a custom check to our `InputSchema` definition that\n",
    "checked whether the product of the `month` and `day` integer values were greater than 1000. If not,\n",
    "then the check fails."
   ]
  },
  {
   "cell_type": "code",
   "execution_count": 32,
   "metadata": {},
   "outputs": [],
   "source": [
    "class InputSchema(pa.SchemaModel):\n",
    "    year: Series[int] = pa.Field(gt=2000, coerce=True)\n",
    "    month: Series[int] = pa.Field(ge=1, le=12, coerce=True)\n",
    "    day: Series[int] = pa.Field(ge=0, le=365, coerce=True)\n",
    "\n",
    "    @pa.dataframe_check()\n",
    "    def month_day_product_gt_1000(cls, df: pd.DataFrame) -> Series[bool]:\n",
    "        return df['month'] * df['day'] > 1000"
   ]
  },
  {
   "cell_type": "markdown",
   "metadata": {},
   "source": [
    "Validating the `valid_df` using this new definition for `InputSchema` with the `month_day_product_ft_1000`\n",
    "check returns a `SchemaError` as expected with a print out of the rows that failed."
   ]
  },
  {
   "cell_type": "code",
   "execution_count": 33,
   "metadata": {},
   "outputs": [
    {
     "ename": "SchemaError",
     "evalue": "<Schema DataFrameSchema(\n    columns={\n        'year': <Schema Column(name=year, type=DataType(int64))>\n        'month': <Schema Column(name=month, type=DataType(int64))>\n        'day': <Schema Column(name=day, type=DataType(int64))>\n    },\n    checks=[\n        <Check month_day_product_gt_1000>\n    ],\n    coerce=False,\n    dtype=None,\n    index=None,\n    strict=False\n    name=InputSchema,\n    ordered=False,\n    unique_column_names=False\n)> failed element-wise validator 0:\n<Check month_day_product_gt_1000>\nfailure cases:\n  column  index  failure_case\n0   year      0          2001\n1   year      1          2002\n2  month      0             3\n3  month      1             6\n4    day      0           200\n5    day      1           156",
     "output_type": "error",
     "traceback": [
      "\u001b[1;31m---------------------------------------------------------------------------\u001b[0m",
      "\u001b[1;31mSchemaError\u001b[0m                               Traceback (most recent call last)",
      "Cell \u001b[1;32mIn [33], line 1\u001b[0m\n\u001b[1;32m----> 1\u001b[0m \u001b[43mInputSchema\u001b[49m\u001b[38;5;241;43m.\u001b[39;49m\u001b[43mvalidate\u001b[49m\u001b[43m(\u001b[49m\u001b[43mvalid_df\u001b[49m\u001b[43m)\u001b[49m\n",
      "File \u001b[1;32m~\\AppData\\Local\\Packages\\PythonSoftwareFoundation.Python.3.10_qbz5n2kfra8p0\\LocalCache\\local-packages\\Python310\\site-packages\\pandera\\model.py:264\u001b[0m, in \u001b[0;36mSchemaModel.validate\u001b[1;34m(cls, check_obj, head, tail, sample, random_state, lazy, inplace)\u001b[0m\n\u001b[0;32m    249\u001b[0m \u001b[39m@classmethod\u001b[39m\n\u001b[0;32m    250\u001b[0m \u001b[39m@docstring_substitution\u001b[39m(validate_doc\u001b[39m=\u001b[39mDataFrameSchema\u001b[39m.\u001b[39mvalidate\u001b[39m.\u001b[39m\u001b[39m__doc__\u001b[39m)\n\u001b[0;32m    251\u001b[0m \u001b[39mdef\u001b[39;00m \u001b[39mvalidate\u001b[39m(\n\u001b[1;32m   (...)\u001b[0m\n\u001b[0;32m    259\u001b[0m     inplace: \u001b[39mbool\u001b[39m \u001b[39m=\u001b[39m \u001b[39mFalse\u001b[39;00m,\n\u001b[0;32m    260\u001b[0m ) \u001b[39m-\u001b[39m\u001b[39m>\u001b[39m DataFrameBase[TSchemaModel]:\n\u001b[0;32m    261\u001b[0m     \u001b[39m\"\"\"%(validate_doc)s\"\"\"\u001b[39;00m\n\u001b[0;32m    262\u001b[0m     \u001b[39mreturn\u001b[39;00m cast(\n\u001b[0;32m    263\u001b[0m         DataFrameBase[TSchemaModel],\n\u001b[1;32m--> 264\u001b[0m         \u001b[39mcls\u001b[39;49m\u001b[39m.\u001b[39;49mto_schema()\u001b[39m.\u001b[39;49mvalidate(\n\u001b[0;32m    265\u001b[0m             check_obj, head, tail, sample, random_state, lazy, inplace\n\u001b[0;32m    266\u001b[0m         ),\n\u001b[0;32m    267\u001b[0m     )\n",
      "File \u001b[1;32m~\\AppData\\Local\\Packages\\PythonSoftwareFoundation.Python.3.10_qbz5n2kfra8p0\\LocalCache\\local-packages\\Python310\\site-packages\\pandera\\schemas.py:518\u001b[0m, in \u001b[0;36mDataFrameSchema.validate\u001b[1;34m(self, check_obj, head, tail, sample, random_state, lazy, inplace)\u001b[0m\n\u001b[0;32m    505\u001b[0m     check_obj \u001b[39m=\u001b[39m check_obj\u001b[39m.\u001b[39mmap_partitions(\n\u001b[0;32m    506\u001b[0m         \u001b[39mself\u001b[39m\u001b[39m.\u001b[39m_validate,\n\u001b[0;32m    507\u001b[0m         head\u001b[39m=\u001b[39mhead,\n\u001b[1;32m   (...)\u001b[0m\n\u001b[0;32m    513\u001b[0m         meta\u001b[39m=\u001b[39mcheck_obj,\n\u001b[0;32m    514\u001b[0m     )\n\u001b[0;32m    516\u001b[0m     \u001b[39mreturn\u001b[39;00m check_obj\u001b[39m.\u001b[39mpandera\u001b[39m.\u001b[39madd_schema(\u001b[39mself\u001b[39m)\n\u001b[1;32m--> 518\u001b[0m \u001b[39mreturn\u001b[39;00m \u001b[39mself\u001b[39;49m\u001b[39m.\u001b[39;49m_validate(\n\u001b[0;32m    519\u001b[0m     check_obj\u001b[39m=\u001b[39;49mcheck_obj,\n\u001b[0;32m    520\u001b[0m     head\u001b[39m=\u001b[39;49mhead,\n\u001b[0;32m    521\u001b[0m     tail\u001b[39m=\u001b[39;49mtail,\n\u001b[0;32m    522\u001b[0m     sample\u001b[39m=\u001b[39;49msample,\n\u001b[0;32m    523\u001b[0m     random_state\u001b[39m=\u001b[39;49mrandom_state,\n\u001b[0;32m    524\u001b[0m     lazy\u001b[39m=\u001b[39;49mlazy,\n\u001b[0;32m    525\u001b[0m     inplace\u001b[39m=\u001b[39;49minplace,\n\u001b[0;32m    526\u001b[0m )\n",
      "File \u001b[1;32m~\\AppData\\Local\\Packages\\PythonSoftwareFoundation.Python.3.10_qbz5n2kfra8p0\\LocalCache\\local-packages\\Python310\\site-packages\\pandera\\schemas.py:732\u001b[0m, in \u001b[0;36mDataFrameSchema._validate\u001b[1;34m(self, check_obj, head, tail, sample, random_state, lazy, inplace)\u001b[0m\n\u001b[0;32m    726\u001b[0m         check_results\u001b[39m.\u001b[39mappend(\n\u001b[0;32m    727\u001b[0m             _handle_check_results(\n\u001b[0;32m    728\u001b[0m                 \u001b[39mself\u001b[39m, check_index, check, df_to_validate\n\u001b[0;32m    729\u001b[0m             )\n\u001b[0;32m    730\u001b[0m         )\n\u001b[0;32m    731\u001b[0m     \u001b[39mexcept\u001b[39;00m errors\u001b[39m.\u001b[39mSchemaError \u001b[39mas\u001b[39;00m err:\n\u001b[1;32m--> 732\u001b[0m         error_handler\u001b[39m.\u001b[39;49mcollect_error(\u001b[39m\"\u001b[39;49m\u001b[39mdataframe_check\u001b[39;49m\u001b[39m\"\u001b[39;49m, err)\n\u001b[0;32m    734\u001b[0m \u001b[39mif\u001b[39;00m \u001b[39mself\u001b[39m\u001b[39m.\u001b[39munique:\n\u001b[0;32m    735\u001b[0m     \u001b[39m# NOTE: fix this pylint error\u001b[39;00m\n\u001b[0;32m    736\u001b[0m     \u001b[39m# pylint: disable=not-an-iterable\u001b[39;00m\n\u001b[0;32m    737\u001b[0m     temp_unique: List[List] \u001b[39m=\u001b[39m (\n\u001b[0;32m    738\u001b[0m         [\u001b[39mself\u001b[39m\u001b[39m.\u001b[39munique]\n\u001b[0;32m    739\u001b[0m         \u001b[39mif\u001b[39;00m \u001b[39mall\u001b[39m(\u001b[39misinstance\u001b[39m(x, \u001b[39mstr\u001b[39m) \u001b[39mfor\u001b[39;00m x \u001b[39min\u001b[39;00m \u001b[39mself\u001b[39m\u001b[39m.\u001b[39munique)\n\u001b[0;32m    740\u001b[0m         \u001b[39melse\u001b[39;00m \u001b[39mself\u001b[39m\u001b[39m.\u001b[39munique\n\u001b[0;32m    741\u001b[0m     )\n",
      "File \u001b[1;32m~\\AppData\\Local\\Packages\\PythonSoftwareFoundation.Python.3.10_qbz5n2kfra8p0\\LocalCache\\local-packages\\Python310\\site-packages\\pandera\\error_handlers.py:32\u001b[0m, in \u001b[0;36mSchemaErrorHandler.collect_error\u001b[1;34m(self, reason_code, schema_error, original_exc)\u001b[0m\n\u001b[0;32m     26\u001b[0m \u001b[39m\"\"\"Collect schema error, raising exception if lazy is False.\u001b[39;00m\n\u001b[0;32m     27\u001b[0m \n\u001b[0;32m     28\u001b[0m \u001b[39m:param reason_code: string representing reason for error\u001b[39;00m\n\u001b[0;32m     29\u001b[0m \u001b[39m:param schema_error: ``SchemaError`` object.\u001b[39;00m\n\u001b[0;32m     30\u001b[0m \u001b[39m\"\"\"\u001b[39;00m\n\u001b[0;32m     31\u001b[0m \u001b[39mif\u001b[39;00m \u001b[39mnot\u001b[39;00m \u001b[39mself\u001b[39m\u001b[39m.\u001b[39m_lazy:\n\u001b[1;32m---> 32\u001b[0m     \u001b[39mraise\u001b[39;00m schema_error \u001b[39mfrom\u001b[39;00m \u001b[39moriginal_exc\u001b[39;00m\n\u001b[0;32m     34\u001b[0m \u001b[39m# delete data of validated object from SchemaError object to prevent\u001b[39;00m\n\u001b[0;32m     35\u001b[0m \u001b[39m# storing copies of the validated DataFrame/Series for every\u001b[39;00m\n\u001b[0;32m     36\u001b[0m \u001b[39m# SchemaError collected.\u001b[39;00m\n\u001b[0;32m     37\u001b[0m \u001b[39mdel\u001b[39;00m schema_error\u001b[39m.\u001b[39mdata\n",
      "File \u001b[1;32m~\\AppData\\Local\\Packages\\PythonSoftwareFoundation.Python.3.10_qbz5n2kfra8p0\\LocalCache\\local-packages\\Python310\\site-packages\\pandera\\schemas.py:727\u001b[0m, in \u001b[0;36mDataFrameSchema._validate\u001b[1;34m(self, check_obj, head, tail, sample, random_state, lazy, inplace)\u001b[0m\n\u001b[0;32m    724\u001b[0m \u001b[39mfor\u001b[39;00m check_index, check \u001b[39min\u001b[39;00m \u001b[39menumerate\u001b[39m(\u001b[39mself\u001b[39m\u001b[39m.\u001b[39mchecks):\n\u001b[0;32m    725\u001b[0m     \u001b[39mtry\u001b[39;00m:\n\u001b[0;32m    726\u001b[0m         check_results\u001b[39m.\u001b[39mappend(\n\u001b[1;32m--> 727\u001b[0m             _handle_check_results(\n\u001b[0;32m    728\u001b[0m                 \u001b[39mself\u001b[39;49m, check_index, check, df_to_validate\n\u001b[0;32m    729\u001b[0m             )\n\u001b[0;32m    730\u001b[0m         )\n\u001b[0;32m    731\u001b[0m     \u001b[39mexcept\u001b[39;00m errors\u001b[39m.\u001b[39mSchemaError \u001b[39mas\u001b[39;00m err:\n\u001b[0;32m    732\u001b[0m         error_handler\u001b[39m.\u001b[39mcollect_error(\u001b[39m\"\u001b[39m\u001b[39mdataframe_check\u001b[39m\u001b[39m\"\u001b[39m, err)\n",
      "File \u001b[1;32m~\\AppData\\Local\\Packages\\PythonSoftwareFoundation.Python.3.10_qbz5n2kfra8p0\\LocalCache\\local-packages\\Python310\\site-packages\\pandera\\schemas.py:2413\u001b[0m, in \u001b[0;36m_handle_check_results\u001b[1;34m(schema, check_index, check, check_obj, *check_args)\u001b[0m\n\u001b[0;32m   2411\u001b[0m         warnings\u001b[39m.\u001b[39mwarn(error_msg, \u001b[39mUserWarning\u001b[39;00m)\n\u001b[0;32m   2412\u001b[0m         \u001b[39mreturn\u001b[39;00m \u001b[39mTrue\u001b[39;00m\n\u001b[1;32m-> 2413\u001b[0m     \u001b[39mraise\u001b[39;00m errors\u001b[39m.\u001b[39mSchemaError(\n\u001b[0;32m   2414\u001b[0m         schema,\n\u001b[0;32m   2415\u001b[0m         check_obj,\n\u001b[0;32m   2416\u001b[0m         error_msg,\n\u001b[0;32m   2417\u001b[0m         failure_cases\u001b[39m=\u001b[39mfailure_cases,\n\u001b[0;32m   2418\u001b[0m         check\u001b[39m=\u001b[39mcheck,\n\u001b[0;32m   2419\u001b[0m         check_index\u001b[39m=\u001b[39mcheck_index,\n\u001b[0;32m   2420\u001b[0m         check_output\u001b[39m=\u001b[39mcheck_result\u001b[39m.\u001b[39mcheck_output,\n\u001b[0;32m   2421\u001b[0m     )\n\u001b[0;32m   2422\u001b[0m \u001b[39mreturn\u001b[39;00m check_result\u001b[39m.\u001b[39mcheck_passed\n",
      "\u001b[1;31mSchemaError\u001b[0m: <Schema DataFrameSchema(\n    columns={\n        'year': <Schema Column(name=year, type=DataType(int64))>\n        'month': <Schema Column(name=month, type=DataType(int64))>\n        'day': <Schema Column(name=day, type=DataType(int64))>\n    },\n    checks=[\n        <Check month_day_product_gt_1000>\n    ],\n    coerce=False,\n    dtype=None,\n    index=None,\n    strict=False\n    name=InputSchema,\n    ordered=False,\n    unique_column_names=False\n)> failed element-wise validator 0:\n<Check month_day_product_gt_1000>\nfailure cases:\n  column  index  failure_case\n0   year      0          2001\n1   year      1          2002\n2  month      0             3\n3  month      1             6\n4    day      0           200\n5    day      1           156"
     ]
    }
   ],
   "source": [
    "InputSchema.validate(valid_df)"
   ]
  }
 ],
 "metadata": {
  "kernelspec": {
   "display_name": "Python 3.10.6 64-bit (microsoft store)",
   "language": "python",
   "name": "python3"
  },
  "language_info": {
   "codemirror_mode": {
    "name": "ipython",
    "version": 3
   },
   "file_extension": ".py",
   "mimetype": "text/x-python",
   "name": "python",
   "nbconvert_exporter": "python",
   "pygments_lexer": "ipython3",
   "version": "3.10.6"
  },
  "orig_nbformat": 4,
  "vscode": {
   "interpreter": {
    "hash": "cbf2633dd62297f5e8be8ca87fa9ff5243ee17a68ad449c7befa6c6097037f3f"
   }
  }
 },
 "nbformat": 4,
 "nbformat_minor": 2
}
